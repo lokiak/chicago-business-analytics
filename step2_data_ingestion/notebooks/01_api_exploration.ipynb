{
  "cells": [
    {
      "cell_type": "markdown",
      "metadata": {},
      "source": [
        "# Chicago SMB Market Radar — Data Exploration\n",
        "\n",
        "This notebook provides the foundation for analyzing Chicago small business data from Google Sheets.\n",
        "\n",
        "## Objectives\n",
        "- Connect to Google Sheets data warehouse\n",
        "- Load and explore business licenses, permits, and CTA data\n",
        "- Perform initial data quality assessment\n",
        "- Set up reusable analysis functions\n"
      ]
    },
    {
      "cell_type": "markdown",
      "metadata": {},
      "source": [
        "## Setup and Imports\n"
      ]
    },
    {
      "cell_type": "code",
      "execution_count": null,
      "metadata": {},
      "outputs": [],
      "source": [
        "import pandas as pd\n",
        "import numpy as np\n",
        "import matplotlib.pyplot as plt\n",
        "import seaborn as sns\n",
        "from datetime import datetime, timedelta\n",
        "import warnings\n",
        "warnings.filterwarnings('ignore')\n",
        "\n",
        "# Set up plotting style\n",
        "plt.style.use('seaborn-v0_8')\n",
        "sns.set_palette(\"husl\")\n",
        "\n",
        "# Import our custom modules\n",
        "import sys\n",
        "sys.path.append('../src')\n",
        "from sheets import open_sheet\n",
        "from config import load_settings\n",
        "\n",
        "print(\"✅ Imports successful\")\n"
      ]
    },
    {
      "cell_type": "markdown",
      "metadata": {},
      "source": [
        "## Google Sheets Connection\n",
        "\n",
        "Connect to our data warehouse and load the datasets.\n"
      ]
    },
    {
      "cell_type": "code",
      "execution_count": null,
      "metadata": {},
      "outputs": [],
      "source": [
        "# Load configuration\n",
        "settings = load_settings()\n",
        "print(f\"📊 Sheet ID: {settings.sheet_id}\")\n",
        "print(f\"📁 Credentials: {settings.google_creds_path}\")\n",
        "\n",
        "# Connect to Google Sheets\n",
        "try:\n",
        "    sh = open_sheet(settings.sheet_id, settings.google_creds_path)\n",
        "    print(\"✅ Successfully connected to Google Sheets\")\n",
        "\n",
        "    # List available worksheets\n",
        "    worksheets = [ws.title for ws in sh.worksheets()]\n",
        "    print(f\"📋 Available worksheets: {worksheets}\")\n",
        "\n",
        "except Exception as e:\n",
        "    print(f\"❌ Error connecting to Google Sheets: {e}\")\n",
        "    print(\"Please check your .env file and Google credentials\")\n"
      ]
    },
    {
      "cell_type": "markdown",
      "metadata": {},
      "source": [
        "## Data Loading Functions\n",
        "\n",
        "Create reusable functions to load data from Google Sheets.\n"
      ]
    },
    {
      "cell_type": "code",
      "execution_count": null,
      "metadata": {},
      "outputs": [],
      "source": [
        "def load_sheet_data(sheet, worksheet_name, parse_dates=None):\n",
        "    \"\"\"\n",
        "    Load data from a Google Sheets worksheet into a pandas DataFrame.\n",
        "\n",
        "    Args:\n",
        "        sheet: Google Sheets object\n",
        "        worksheet_name: Name of the worksheet\n",
        "        parse_dates: List of column names to parse as dates\n",
        "\n",
        "    Returns:\n",
        "        pandas.DataFrame: Loaded data\n",
        "    \"\"\"\n",
        "    try:\n",
        "        ws = sheet.worksheet(worksheet_name)\n",
        "        data = ws.get_all_records()\n",
        "        df = pd.DataFrame(data)\n",
        "\n",
        "        # Parse dates if specified\n",
        "        if parse_dates:\n",
        "            for col in parse_dates:\n",
        "                if col in df.columns:\n",
        "                    df[col] = pd.to_datetime(df[col], errors='coerce')\n",
        "\n",
        "        print(f\"✅ Loaded {len(df)} rows from '{worksheet_name}'\")\n",
        "        return df\n",
        "\n",
        "    except Exception as e:\n",
        "        print(f\"❌ Error loading '{worksheet_name}': {e}\")\n",
        "        return pd.DataFrame()\n",
        "\n",
        "def get_data_summary(df, name):\n",
        "    \"\"\"\n",
        "    Print a summary of the loaded dataset.\n",
        "\n",
        "    Args:\n",
        "        df: pandas.DataFrame\n",
        "        name: Dataset name for display\n",
        "    \"\"\"\n",
        "    print(f\"\\n📊 {name} Dataset Summary\")\n",
        "    print(f\"   Rows: {len(df):,}\")\n",
        "    print(f\"   Columns: {len(df.columns)}\")\n",
        "    print(f\"   Memory usage: {df.memory_usage(deep=True).sum() / 1024**2:.2f} MB\")\n",
        "\n",
        "    if not df.empty:\n",
        "        print(f\"\\n📋 Column Information:\")\n",
        "        for col in df.columns:\n",
        "            dtype = df[col].dtype\n",
        "            null_count = df[col].isnull().sum()\n",
        "            null_pct = (null_count / len(df)) * 100\n",
        "            print(f\"   {col}: {dtype} ({null_count:,} nulls, {null_pct:.1f}%)\")\n",
        "\n",
        "    print(\"\\n\" + \"=\"*50)\n",
        "\n",
        "print(\"✅ Data loading functions defined\")\n"
      ]
    }
  ],
  "metadata": {
    "language_info": {
      "name": "python"
    }
  },
  "nbformat": 4,
  "nbformat_minor": 2
}
