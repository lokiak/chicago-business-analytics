{
  "cells": [
    {
      "cell_type": "markdown",
      "metadata": {},
      "source": [
        "# Chicago SMB Market Radar — Business Analysis\n",
        "\n",
        "This notebook provides detailed business intelligence analysis of Chicago small business data.\n",
        "\n",
        "## Objectives\n",
        "- Analyze business license trends and patterns\n",
        "- Identify high-growth neighborhoods and business types\n",
        "- Calculate key performance indicators (KPIs)\n",
        "- Generate actionable business insights\n"
      ]
    },
    {
      "cell_type": "code",
      "execution_count": 1,
      "metadata": {},
      "outputs": [
        {
          "ename": "ModuleNotFoundError",
          "evalue": "No module named 'matplotlib'",
          "output_type": "error",
          "traceback": [
            "\u001b[31m---------------------------------------------------------------------------\u001b[39m",
            "\u001b[31mModuleNotFoundError\u001b[39m                       Traceback (most recent call last)",
            "\u001b[36mCell\u001b[39m\u001b[36m \u001b[39m\u001b[32mIn[1]\u001b[39m\u001b[32m, line 3\u001b[39m\n\u001b[32m      1\u001b[39m \u001b[38;5;28;01mimport\u001b[39;00m\u001b[38;5;250m \u001b[39m\u001b[34;01mpandas\u001b[39;00m\u001b[38;5;250m \u001b[39m\u001b[38;5;28;01mas\u001b[39;00m\u001b[38;5;250m \u001b[39m\u001b[34;01mpd\u001b[39;00m\n\u001b[32m      2\u001b[39m \u001b[38;5;28;01mimport\u001b[39;00m\u001b[38;5;250m \u001b[39m\u001b[34;01mnumpy\u001b[39;00m\u001b[38;5;250m \u001b[39m\u001b[38;5;28;01mas\u001b[39;00m\u001b[38;5;250m \u001b[39m\u001b[34;01mnp\u001b[39;00m\n\u001b[32m----> \u001b[39m\u001b[32m3\u001b[39m \u001b[38;5;28;01mimport\u001b[39;00m\u001b[38;5;250m \u001b[39m\u001b[34;01mmatplotlib\u001b[39;00m\u001b[34;01m.\u001b[39;00m\u001b[34;01mpyplot\u001b[39;00m\u001b[38;5;250m \u001b[39m\u001b[38;5;28;01mas\u001b[39;00m\u001b[38;5;250m \u001b[39m\u001b[34;01mplt\u001b[39;00m\n\u001b[32m      4\u001b[39m \u001b[38;5;28;01mimport\u001b[39;00m\u001b[38;5;250m \u001b[39m\u001b[34;01mseaborn\u001b[39;00m\u001b[38;5;250m \u001b[39m\u001b[38;5;28;01mas\u001b[39;00m\u001b[38;5;250m \u001b[39m\u001b[34;01msns\u001b[39;00m\n\u001b[32m      5\u001b[39m \u001b[38;5;28;01mfrom\u001b[39;00m\u001b[38;5;250m \u001b[39m\u001b[34;01mdatetime\u001b[39;00m\u001b[38;5;250m \u001b[39m\u001b[38;5;28;01mimport\u001b[39;00m datetime, timedelta\n",
            "\u001b[31mModuleNotFoundError\u001b[39m: No module named 'matplotlib'"
          ]
        }
      ],
      "source": [
        "import pandas as pd\n",
        "import numpy as np\n",
        "import matplotlib.pyplot as plt\n",
        "import seaborn as sns\n",
        "from datetime import datetime, timedelta\n",
        "import warnings\n",
        "warnings.filterwarnings('ignore')\n",
        "\n",
        "# Import our utility functions\n",
        "from utils import *\n",
        "\n",
        "# Import our custom modules\n",
        "import sys\n",
        "sys.path.append('../src')\n",
        "from sheets import open_sheet\n",
        "from config import load_settings\n",
        "\n",
        "print(\"✅ Imports successful\")\n"
      ]
    },
    {
      "cell_type": "markdown",
      "metadata": {},
      "source": [
        "## Load Data\n",
        "\n",
        "Load the datasets from Google Sheets or from saved pickle files if available.\n"
      ]
    },
    {
      "cell_type": "code",
      "execution_count": null,
      "metadata": {},
      "outputs": [],
      "source": [
        "# Try to load from saved pickle files first (faster)\n",
        "try:\n",
        "    licenses_df = load_analysis_results('licenses_df')\n",
        "    permits_df = load_analysis_results('permits_df')\n",
        "    cta_df = load_analysis_results('cta_df')\n",
        "\n",
        "    if licenses_df.empty or permits_df.empty or cta_df.empty:\n",
        "        raise FileNotFoundError(\"Some pickle files are empty or missing\")\n",
        "\n",
        "    print(\"✅ Loaded data from saved pickle files\")\n",
        "\n",
        "except FileNotFoundError:\n",
        "    print(\"📊 Loading data from Google Sheets...\")\n",
        "\n",
        "    # Load configuration and connect to Google Sheets\n",
        "    settings = load_settings()\n",
        "    sh = open_sheet(settings.sheet_id, settings.google_creds_path)\n",
        "\n",
        "    # Load datasets\n",
        "    licenses_df = load_sheet_data(\n",
        "        sh,\n",
        "        \"Business_Licenses_Full\",\n",
        "        parse_dates=['license_start_date', 'application_created_date', 'payment_date', 'date_issued', 'expiration_date']\n",
        "    )\n",
        "\n",
        "    permits_df = load_sheet_data(\n",
        "        sh,\n",
        "        \"Building_Permits_Full\",\n",
        "        parse_dates=['issue_date', 'application_start_date']\n",
        "    )\n",
        "\n",
        "    cta_df = load_sheet_data(\n",
        "        sh,\n",
        "        \"CTA_Full\",\n",
        "        parse_dates=['service_date']\n",
        "    )\n",
        "\n",
        "    # Save for future use\n",
        "    save_analysis_results(licenses_df, 'licenses_df')\n",
        "    save_analysis_results(permits_df, 'permits_df')\n",
        "    save_analysis_results(cta_df, 'cta_df')\n",
        "\n",
        "    print(\"✅ Data loaded and saved for future use\")\n",
        "\n",
        "# Display data summaries\n",
        "get_data_summary(licenses_df, \"Business Licenses\")\n",
        "get_data_summary(permits_df, \"Building Permits\")\n",
        "get_data_summary(cta_df, \"CTA Boardings\")\n"
      ]
    }
  ],
  "metadata": {
    "kernelspec": {
      "display_name": "venv",
      "language": "python",
      "name": "python3"
    },
    "language_info": {
      "codemirror_mode": {
        "name": "ipython",
        "version": 3
      },
      "file_extension": ".py",
      "mimetype": "text/x-python",
      "name": "python",
      "nbconvert_exporter": "python",
      "pygments_lexer": "ipython3",
      "version": "3.11.1"
    }
  },
  "nbformat": 4,
  "nbformat_minor": 2
}
